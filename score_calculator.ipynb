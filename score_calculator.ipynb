{
 "cells": [
  {
   "cell_type": "code",
   "execution_count": 191,
   "metadata": {},
   "outputs": [],
   "source": [
    "from sklearn.feature_extraction.text import TfidfVectorizer\n",
    "from sklearn.metrics.pairwise import cosine_similarity"
   ]
  },
  {
   "cell_type": "code",
   "execution_count": 192,
   "metadata": {},
   "outputs": [],
   "source": [
    "data = [\n",
    "[['業界 Webサイト監視'],'https://www.solarwinds.com/ja/web-performance-monitor','SolarWindsのWebサイト監視ソフトウェアを活用して、Webアプリケーション パフォーマンスを管理して ... Web Performance Monitorは業界でも人気の高い製品です。'],\n",
    "[['業界 Webサイト監視'],'https://www.emsc.meti.go.jp/','電力・ガス取引監視等委員会のホームページです。'],\n",
    "[['業界 Webサイト監視'],'https://www.shikoku.meti.go.jp/','四国経済産業局のウェブサイトです。報道発表、政策、統計、申請手続きなどに関する情報を掲載しています。広範な経済産業政策を積極的に展開し、四国が元気になるため ...'],\n",
    "[['業界 Webサイト監視'],'https://www.meti.go.jp/','経済産業省のホームページです。経済産業省の組織、大臣会見、報道発表、政策、審議会・研究会、所管法令、予算・税制、統計、申請手続きなどに関する情報を掲載してい ...'],\n",
    "[['業界 Webサイト監視'],'https://www.fsa.go.jp/sesc/','証券監視委の公表文を装った文書が一部ネット上で認められていますが、証券監視委の公表文につきましては直接証券監視委のウェブサイトにてご確認をお願いいたします。'],\n",
    "[['業界 Webサイト監視'],'https://appmill.work/','アプミルは100URLものURL監視が無料。簡単・無料で使えるから登録～監視開始まで1分で完了。ドメイン、SSL証明書の有効期限を一括で管理。ページの表示速度、死活 ...'],\n",
    "[['業界 Webサイト監視'],'https://www.thk.com/omniedge/jp/','THKによる「現場ですぐに使えるIoT」はじまります。まずは、LMガイドの異常予兆を見える化しませんか？'],\n",
    "[['業界 Webサイト監視'],'https://www.denkishimbun.com/','日本電気協会新聞部が発行する電気新聞のホームページ。電力・エネルギーを中心に電機、通信、電設、建設･工事の最新ニュースを提供。電力業界の人事情報も充実。'],\n",
    "[['業界 Webサイト監視'],'https://pig-data.jp/blog_news/news/towarelease/','2022/10/04 ... タスクカードでタスク漏れなし！ 自社サイトモニタリングでエラーを瞬時に対応！ 具体的にどんな業務に使えるの？ TOWAは業界 ...'],\n",
    "[['業界 Webサイト監視'],'https://jp.indeed.com/q-%E3%82%B5%E3%82%A4%E3%83%88%E7%9B%A3%E8%A6%96-l-%E5%8C%97%E6%B5%B7%E9%81%93-%E6%9C%AD%E5%B9%8C%E5%B8%82-%E6%B1%82%E4%BA%BA.html','【WEB広告会社】広告チェックチームの管理職候補. ＜業界未経験OK＞Web広告のチェック業務◎20～30代活躍中！／完全 ...'],\n",
    "[['業界 Webサイト監視'],'https://www.gomez.co.jp/','Gomezはウェブサイトの客観的な調査・分析を通じて、消費者と企業の双方にメリットとなるコンサルティングおよびサイト構築サービスをご提供しています。'],\n",
    "[['業界 Webサイト監視'],'https://www.pref.miyagi.jp/soshiki/yakumu/','022-211-2653[監視麻薬班] ... 外部サイトへリンク） ... 薬局、医薬品販売業、医療機器販売業・貸与業、再生医療等製品販売業における法令遵守体制の整備（R5.2.17).'],\n",
    "[['業界 Webサイト監視'],'https://www.site24x7.jp/case-studies.html','業界 :IT. Site24x7 : ITAZ technologiesはwebサイトパフォーマンスに重要な洞察 ... Site24x7 : Warehouse Stationeryはwebサイトの可用性を効果的に監視して計測し、 ...'],\n",
    "[['業界 Webサイト監視'],'https://www.pref.miyagi.jp/soshiki/shoku-k/20kekka.html','平成20年度監視指導の状況指導結果 ... 魚介類販売業, 2,629, 4,826, 5,149, 106.7% ... より良いウェブサイトにするためにみなさまのご意見をお聞かせください.'],\n",
    "[['業界 Webサイト監視'],'https://www.green-japan.com/company/5332/job/187327','株式会社フォースリーの募集情報。「【プロジェクトマネージャー】□77名で131億達成□Webサイト監視・分析システム『LOGRIZa』のエンジニア組織構築をお任せします！'],\n",
    "[['業界 Webサイト監視'],'https://www.toshiba-teli.co.jp/','東芝テリー株式会社は「映像の専門会社」として産業用カメラ、監視カメラ、管内 ... 弊社では、ウェブサイトの内容やご提供するサービスを向上させ、また、サイトを ...'],\n",
    "[['業界 Webサイト監視'],'https://www.site24x7.jp/help/internet-service-metrics/website-monitor.html','任意のWebサイト監視をクリックすると、パフォーマンス分析に役立つ監視情報が、グラフ、 ... 業界標準のApdexを使用して、アプリケーションやサービスを利用している ...'],\n",
    "[['業界 Webサイト監視'],'https://newrelic.com/jp/press-release/20230329','2023/03/29 ... New RelicのOpenAI監視「OpenAI オブザーバビリティ」は、すばやく、使い ... 関連の主要パフォーマンスメトリクスに関するインサイトを可視化する ...'],\n",
    "[['業界 Webサイト監視'],'https://www.jsda.or.jp/','証券業界のSDGs · slider_impactmmtool.PNG · NISA特設サイト · 投資の時間 · 金融・証券インストラクター募集中 · つみたてNISAのTVCMをご紹介.'],\n",
    "[['業界 Webサイト監視'],'https://www.hkd.meti.go.jp/hokse/eg_serveillance/index.htm','2016年（平成28年）4月1日に、電気の小売業への参入が全面自由化されたことにより、家庭 ... 事業者の定期報告（ガス）（電力・ガス取引監視等委員会のウェブサイト） ...'],\n",
    "[['業界 Webサイト監視'],'https://www.bbsec.co.jp/','WEB上のセキュリティ対策を中心に、セキュリティ診断やコンサルティングサービスなどを行う、総合セキュリティ会社。'],\n",
    "[['業界 Webサイト監視'],'https://www.ms-ins.com/personal/car/gk/mimamoru-dr.html','三井住友海上オフィシャルサイト。 ... 業界初!360°全方位撮影可能 ... 等が、『見守るクルマの保険』をさらに安心・便利にご利用いただくための専用WEBサイトです。'],\n",
    "[['業界 Webサイト監視'],'https://www.khk.or.jp/','【令和5年度上期】移動監視者講習（2／4回次）追加受付 ... 産業保安; LPガス保安技術者向けWebサイト; LPガス安全委員会; セーフティー・マネージメント・ ...'],\n",
    "[['業界 Webサイト監視'],'https://www.tcs.com/jp-ja/Cargo_Monitoring','そのため、サプライチェーン全体で商品の鮮度を管理することは至難の業と ... TCSのWebサイトでは、お客様により快適にご利用いただくためにcookieを使用しています。'],\n",
    "[['業界 Webサイト監視'],'https://www.enecho.meti.go.jp/category/electricity_and_gas/electric/electricity_liberalization/','経済産業省・資源エネルギー庁 電力小売全面自由化についての情報サイトです。制度の概要や一般消費者の暮らしへのメリット、今さら聞けない電力自由化5つの質問などを ...'],\n",
    "[['業界 Webサイト監視'],'https://www.scft-recruit.com/keyword.html','メガバンク、地方銀行、流通系銀行など多数の金融機関のATM監視業務に携わり、業界トップシェアを誇ります。 Keyword03. 金融に強い。だけじゃない？'],\n",
    "[['業界 Webサイト監視'],'https://www.mhlw.go.jp/stf/seisakunitsuite/bunya/kenkou_iryou/shokuhin/haccp/index.html','農業及び水産業における食品の採取業はHACCPに沿った衛生管理の制度化の対象外です。 ... 各都道府県等の食品衛生監視員を対象に、HACCPの導入支援・検証を適切に実施 ...'],\n",
    "[['業界 Webサイト監視'],'https://zeromedical-web.com/blog/advertisement/','2019/07/26 ... 医療広告ガイドラインに歯科医院やクリニックのホームページが対応しているかどうか。 その監視・調査を行っているのが、厚生労働省より委託を受けた ...'],\n",
    "[['業界 Webサイト監視'],'https://www.green-japan.com/company/5332/job/178986','株式会社フォースリーの募集情報。「□77名で131億達成□Webサイト監視・分析システム『LOGRIZa』のバックエンドエンジニア募集！／自社サービス／ハイブリッド ...'],\n",
    "[['業界 Webサイト監視'],'https://www.fujielectric.co.jp/','富士電機はパワエレ、半導体、発電プラント、食品流通の4つのエネルギー・環境事業で持続可能な社会の実現に貢献しています。'],\n",
    "]"
   ]
  },
  {
   "cell_type": "code",
   "execution_count": 193,
   "metadata": {},
   "outputs": [],
   "source": [
    "query = data[0][0][0]  # Assuming query1 is the first element of the first data entry\n",
    "urls = [entry[1] for entry in data]\n",
    "snippets = [entry[2] for entry in data]"
   ]
  },
  {
   "cell_type": "code",
   "execution_count": 194,
   "metadata": {},
   "outputs": [],
   "source": [
    "# Create a TfidfVectorizer to convert text into numerical vectors\n",
    "vectorizer = TfidfVectorizer()\n",
    "\n",
    "# Fit the vectorizer on the snippets\n",
    "vectorizer.fit(snippets)\n",
    "\n",
    "# Transform the query and snippets into TF-IDF vectors\n",
    "query_vector = vectorizer.transform([query])\n",
    "snippet_vectors = vectorizer.transform(snippets)"
   ]
  },
  {
   "cell_type": "code",
   "execution_count": 195,
   "metadata": {},
   "outputs": [],
   "source": [
    "# Calculate cosine similarity between the query and snippets\n",
    "similarity_scores = cosine_similarity(query_vector, snippet_vectors)[0]\n",
    "\n",
    "# Store the URL-similarity score pairs in a list\n",
    "url_scores = [[url, score] for url, score in zip(urls, similarity_scores)]"
   ]
  },
  {
   "cell_type": "code",
   "execution_count": 196,
   "metadata": {},
   "outputs": [],
   "source": [
    "# Write the URL-similarity score pairs to a text file\n",
    "output_file = \"output_score.txt\"  # Change the file name as needed\n",
    "with open(output_file, 'w') as file:\n",
    "    file.write(f\"Query: {query}\\n\\n\")\n",
    "    for url, score in url_scores:\n",
    "        file.write(f\"[{score},\\t{url}]\\n\")"
   ]
  }
 ],
 "metadata": {
  "kernelspec": {
   "display_name": "base",
   "language": "python",
   "name": "python3"
  },
  "language_info": {
   "codemirror_mode": {
    "name": "ipython",
    "version": 3
   },
   "file_extension": ".py",
   "mimetype": "text/x-python",
   "name": "python",
   "nbconvert_exporter": "python",
   "pygments_lexer": "ipython3",
   "version": "3.9.12"
  },
  "orig_nbformat": 4
 },
 "nbformat": 4,
 "nbformat_minor": 2
}

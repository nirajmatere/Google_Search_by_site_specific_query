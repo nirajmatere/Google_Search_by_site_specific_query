{
 "cells": [
  {
   "cell_type": "code",
   "execution_count": 1,
   "metadata": {},
   "outputs": [],
   "source": [
    "data = {\n",
    "    \"query\": \"商品・サービス 物件比較\",\n",
    "    \"links\": [\n",
    "        [\n",
    "            \"https://www.caa.go.jp/policies/policy/representation/fair_labeling/faq/representation/\",\n",
    "            \"https://www.fgl.co.jp/service/lease/\",\n",
    "            \"https://www.caa.go.jp/policies/policy/representation/fair_labeling/pdf/fair_labeling_160801_0001.pdf\",\n",
    "            \"https://pig-data.jp/blog_news/blog/scraping-crawling/competitive-research/\",\n",
    "            \"https://prtimes.jp/main/html/rd/p/000000045.000012645.html\",\n",
    "            \"https://home.adpark.co.jp/service/index_pamphletter.html\",\n",
    "            \"https://prtimes.jp/main/html/rd/p/000000008.000082819.html\",\n",
    "            \"https://www.zenrin.co.jp/product/category/gis/package/rep-pack/index.html\",\n",
    "            \"https://www.smbc-card.com/hojin/magazine/bizi-dora/general-affairs/lease-or-rental.jsp\",\n",
    "            \"https://flets.com/flets-hikari/\"\n",
    "        ],\n",
    "        [\n",
    "            \"https://www.es-life.jp/article/25284\",\n",
    "            \"https://my-best.com/4489\",\n",
    "            \"https://alterna-z.com/column/post-454/\",\n",
    "            \"https://my-best.com/11801\",\n",
    "            \"https://www.sekisui-lease.co.jp/product/comparison.html\",\n",
    "            \"https://my-best.com/14961\",\n",
    "            \"https://www.sfil.co.jp/service/faq/\",\n",
    "            \"https://www.hiroginlease.co.jp/syouhin/financelease/\",\n",
    "            \"https://www.sfil.co.jp/service/payment/\",\n",
    "            \"https://business.suumo.jp/chintai/lineup/ownerreport.html\"\n",
    "        ],\n",
    "        [\n",
    "            \"https://athome-inc.jp/news/release/services/athomeweb-renewal-200712/\",\n",
    "            \"https://www.nrg-houjin.jp/kaden/compare/index.html\",\n",
    "            \"https://store.f-mikata.jp/best-converter/\",\n",
    "            \"https://www.jecc.com/knowledge/compare/\",\n",
    "            \"https://www.azn.co.jp/column/detail.html?itemid=1513&dispmid=904\",\n",
    "            \"https://www.prime-strategy.co.jp/media/hikari-apartment/\",\n",
    "            \"https://www.eco-hatsu.com/management-company/\",\n",
    "            \"https://www.mansion-review.jp/company/\",\n",
    "            \"https://creal.jp/blogs/crowd-funding/1982/\",\n",
    "            \"https://www.do-lease.co.jp/service/lease-installment/\"\n",
    "        ]\n",
    "    ]\n",
    "}\n"
   ]
  },
  {
   "cell_type": "code",
   "execution_count": 2,
   "metadata": {},
   "outputs": [],
   "source": [
    "# Extract query\n",
    "query = data[\"query\"]"
   ]
  },
  {
   "cell_type": "code",
   "execution_count": 3,
   "metadata": {},
   "outputs": [],
   "source": [
    "# Extract URLs related to the query\n",
    "urls = []\n",
    "for group in data[\"links\"]:\n",
    "    urls.extend(group)"
   ]
  },
  {
   "cell_type": "code",
   "execution_count": 4,
   "metadata": {},
   "outputs": [],
   "source": [
    "# Create dictionary with query and URLs as key-value pairs\n",
    "result = {\n",
    "    \"X: Query\": query,\n",
    "    \"Y: URLs\": urls\n",
    "}"
   ]
  },
  {
   "cell_type": "code",
   "execution_count": 5,
   "metadata": {},
   "outputs": [
    {
     "name": "stdout",
     "output_type": "stream",
     "text": [
      "{'X: Query': '商品・サービス 物件比較', 'Y: URLs': ['https://www.caa.go.jp/policies/policy/representation/fair_labeling/faq/representation/', 'https://www.fgl.co.jp/service/lease/', 'https://www.caa.go.jp/policies/policy/representation/fair_labeling/pdf/fair_labeling_160801_0001.pdf', 'https://pig-data.jp/blog_news/blog/scraping-crawling/competitive-research/', 'https://prtimes.jp/main/html/rd/p/000000045.000012645.html', 'https://home.adpark.co.jp/service/index_pamphletter.html', 'https://prtimes.jp/main/html/rd/p/000000008.000082819.html', 'https://www.zenrin.co.jp/product/category/gis/package/rep-pack/index.html', 'https://www.smbc-card.com/hojin/magazine/bizi-dora/general-affairs/lease-or-rental.jsp', 'https://flets.com/flets-hikari/', 'https://www.es-life.jp/article/25284', 'https://my-best.com/4489', 'https://alterna-z.com/column/post-454/', 'https://my-best.com/11801', 'https://www.sekisui-lease.co.jp/product/comparison.html', 'https://my-best.com/14961', 'https://www.sfil.co.jp/service/faq/', 'https://www.hiroginlease.co.jp/syouhin/financelease/', 'https://www.sfil.co.jp/service/payment/', 'https://business.suumo.jp/chintai/lineup/ownerreport.html', 'https://athome-inc.jp/news/release/services/athomeweb-renewal-200712/', 'https://www.nrg-houjin.jp/kaden/compare/index.html', 'https://store.f-mikata.jp/best-converter/', 'https://www.jecc.com/knowledge/compare/', 'https://www.azn.co.jp/column/detail.html?itemid=1513&dispmid=904', 'https://www.prime-strategy.co.jp/media/hikari-apartment/', 'https://www.eco-hatsu.com/management-company/', 'https://www.mansion-review.jp/company/', 'https://creal.jp/blogs/crowd-funding/1982/', 'https://www.do-lease.co.jp/service/lease-installment/']}\n"
     ]
    }
   ],
   "source": [
    "# Print the result\n",
    "print(result)"
   ]
  }
 ],
 "metadata": {
  "kernelspec": {
   "display_name": "base",
   "language": "python",
   "name": "python3"
  },
  "language_info": {
   "codemirror_mode": {
    "name": "ipython",
    "version": 3
   },
   "file_extension": ".py",
   "mimetype": "text/x-python",
   "name": "python",
   "nbconvert_exporter": "python",
   "pygments_lexer": "ipython3",
   "version": "3.9.12"
  },
  "orig_nbformat": 4
 },
 "nbformat": 4,
 "nbformat_minor": 2
}

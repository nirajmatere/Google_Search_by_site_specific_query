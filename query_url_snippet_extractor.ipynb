{
 "cells": [
  {
   "cell_type": "code",
   "execution_count": 41,
   "metadata": {},
   "outputs": [],
   "source": [
    "import os\n",
    "import json"
   ]
  },
  {
   "cell_type": "code",
   "execution_count": 42,
   "metadata": {},
   "outputs": [],
   "source": [
    "# generic settings\n",
    "HOMEDIR = './'"
   ]
  },
  {
   "cell_type": "code",
   "execution_count": 43,
   "metadata": {},
   "outputs": [],
   "source": [
    "def extract_data_from_document(file_path):\n",
    "    with open(file_path, 'r', encoding='utf-8') as file:\n",
    "        data = json.load(file)\n",
    "\n",
    "    queries = [data[\"query\"]]\n",
    "    urls = []\n",
    "    snippets = []\n",
    "\n",
    "    for response in data[\"responses\"]:\n",
    "        for item in response.get(\"items\", []):\n",
    "            urls.append(item[\"link\"])\n",
    "            snippets.append(item.get(\"snippet\"))\n",
    "\n",
    "    # print(urls)\n",
    "\n",
    "    return queries, urls, snippets"
   ]
  },
  {
   "cell_type": "code",
   "execution_count": 66,
   "metadata": {},
   "outputs": [],
   "source": [
    "def store_result_to_txt(query, urls, snippets, output_file_path):\n",
    "    with open(output_file_path, 'w', encoding='utf-8') as file:\n",
    "        # file.write(f\"X: Query\\n{query}\\n\\nY: URLs\\n\")\n",
    "        # for url,snippet in urls,snippets:\n",
    "        #     file.write(f\"{url}\\n\")\n",
    "        #     file.write(f\"{snippet}\\n\")\n",
    "\n",
    "        # link_snippet_pairs = [[url, snippet] for url, snippet in zip(urls, snippets)]\n",
    "        link_snippet_dict = {url: snippet for url, snippet in zip(urls, snippets)}\n",
    "        file.write(f\"[\")\n",
    "        for url, snippet in link_snippet_dict.items():\n",
    "            # file.write(str(link_snippet_dict))\n",
    "            file.write(f\"[{query},'{url}','{snippet}'],\\n\")\n",
    "        file.write(f\"]\")"
   ]
  },
  {
   "cell_type": "code",
   "execution_count": 49,
   "metadata": {},
   "outputs": [],
   "source": [
    "def process_documents_in_directory(directory_path, output_directory):\n",
    "    os.makedirs(output_directory, exist_ok=True)\n",
    "    for file_name in os.listdir(directory_path):\n",
    "        if file_name.endswith('.json'):\n",
    "            file_path = os.path.join(directory_path, file_name)\n",
    "            output_file_path = os.path.join(output_directory, f\"result_{os.path.splitext(file_name)[0]}.txt\")\n",
    "            queries, urls, snippets = extract_data_from_document(file_path)\n",
    "            store_result_to_txt(queries, urls, snippets, output_file_path)"
   ]
  },
  {
   "cell_type": "code",
   "execution_count": 50,
   "metadata": {},
   "outputs": [],
   "source": [
    "# Example usage\n",
    "input_directory = HOMEDIR  # Specify the directory path where the input documents are located\n",
    "output_directory = HOMEDIR  # Specify the directory path where the output .txt files will be stored"
   ]
  },
  {
   "cell_type": "code",
   "execution_count": 67,
   "metadata": {},
   "outputs": [],
   "source": [
    "process_documents_in_directory(input_directory, output_directory)"
   ]
  }
 ],
 "metadata": {
  "kernelspec": {
   "display_name": "env_pytorch",
   "language": "python",
   "name": "python3"
  },
  "language_info": {
   "codemirror_mode": {
    "name": "ipython",
    "version": 3
   },
   "file_extension": ".py",
   "mimetype": "text/x-python",
   "name": "python",
   "nbconvert_exporter": "python",
   "pygments_lexer": "ipython3",
   "version": "3.9.12"
  },
  "orig_nbformat": 4
 },
 "nbformat": 4,
 "nbformat_minor": 2
}
